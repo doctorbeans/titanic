{
 "cells": [
  {
   "cell_type": "code",
   "execution_count": 390,
   "metadata": {},
   "outputs": [],
   "source": [
    "import glob\n",
    "import pandas as pd\n",
    "from IPython.core.interactiveshell import InteractiveShell\n",
    "import numpy as np\n",
    "\n",
    "from sklearn.metrics import mean_squared_error, accuracy_score\n",
    "from sklearn.model_selection import (GridSearchCV, KFold, RandomizedSearchCV,\n",
    "                                     StratifiedKFold, cross_val_score,\n",
    "                                     train_test_split, cross_validate)\n",
    "from sklearn.pipeline import FeatureUnion, Pipeline, make_pipeline\n",
    "from xgboost import XGBClassifier\n",
    "from sklearn.model_selection import train_test_split\n",
    "import shap\n",
    "import matplotlib as mpl\n",
    "import matplotlib.pyplot as plt # scripting interface of matplotlib\n",
    "import seaborn as sns\n",
    "from scipy import stats\n",
    "from dython.nominal import associations\n",
    "from sklearn import linear_model\n",
    "from sklearn.linear_model import LogisticRegression"
   ]
  },
  {
   "cell_type": "code",
   "execution_count": 352,
   "metadata": {},
   "outputs": [],
   "source": [
    "train = pd.read_csv('train.csv', sep = ',')\n",
    "test = pd.read_csv('test.csv', sep = ',')\n",
    "\n",
    "train_d = train.copy()\n",
    "test_d = test.copy()\n"
   ]
  },
  {
   "cell_type": "code",
   "execution_count": 353,
   "metadata": {},
   "outputs": [],
   "source": [
    "#train.head()\n",
    "#train.info()\n",
    "#train.shape\n",
    "#train.describe()\n",
    "#train.head()\n",
    "#train.columns"
   ]
  },
  {
   "cell_type": "markdown",
   "metadata": {},
   "source": [
    "# Cleaning data"
   ]
  },
  {
   "cell_type": "markdown",
   "metadata": {},
   "source": [
    "## Missing values"
   ]
  },
  {
   "cell_type": "code",
   "execution_count": 354,
   "metadata": {},
   "outputs": [],
   "source": [
    "#print(train.isna().sum())\n",
    "combine_all = [train, test, train_d, test_d]\n",
    "\n",
    "for dataset in combine_all:\n",
    "    dataset[\"Age\"] = dataset.Age.fillna(dataset.Age.mean())\n",
    "    dataset = dataset.dropna(subset = [\"Embarked\"])"
   ]
  },
  {
   "cell_type": "markdown",
   "metadata": {},
   "source": [
    "## Categorical"
   ]
  },
  {
   "cell_type": "code",
   "execution_count": 355,
   "metadata": {},
   "outputs": [],
   "source": [
    "#NEW Titles column\n",
    "combine = [train, test]\n",
    "for dataset in combine:\n",
    "    dataset[\"Title\"] = dataset.Name.str.extract(\" ([A-Za-z]+)\\.\", expand=False)\n",
    "    dataset[\"Title\"] = [\"Miss\" if title == \"Ms\" else title for title in dataset.Title]\n",
    "    dataset[\"Title\"] = [\"OtherFormalTitle\" if title not in [\"Mr\", \"Miss\",\"Mrs\",\"Master\"] else title for title in dataset.Title]\n",
    "\n",
    "#pd.crosstab(train[\"Title\"], train[\"Sex\"])\n",
    "#train[\"Title\"] = (train.Name.str.split(', ', expand=True )[1]).str.split(\".\", expand = True)[0]"
   ]
  },
  {
   "cell_type": "code",
   "execution_count": 356,
   "metadata": {},
   "outputs": [],
   "source": [
    "combine_d = [train_d, test_d]\n",
    "for dataset in combine_d:\n",
    "    dataset[\"Mr\"] = [1 if \"Mr.\" in name else 0 for name in dataset.Name]\n",
    "    dataset[\"Miss\"] = [1 if \"Miss.\" in name or \"Ms.\" in name else 0 for name in dataset.Name]\n",
    "    dataset[\"Mrs\"] = [1 if \"Mrs.\" in name else 0 for name in dataset.Name]\n",
    "    dataset[\"Master\"] = [1 if \"Master.\" in name else 0 for name in dataset.Name]\n",
    "    #other honorifics are in the \"rest\" category"
   ]
  },
  {
   "cell_type": "code",
   "execution_count": 357,
   "metadata": {},
   "outputs": [
    {
     "data": {
      "text/html": [
       "<div>\n",
       "<style scoped>\n",
       "    .dataframe tbody tr th:only-of-type {\n",
       "        vertical-align: middle;\n",
       "    }\n",
       "\n",
       "    .dataframe tbody tr th {\n",
       "        vertical-align: top;\n",
       "    }\n",
       "\n",
       "    .dataframe thead th {\n",
       "        text-align: right;\n",
       "    }\n",
       "</style>\n",
       "<table border=\"1\" class=\"dataframe\">\n",
       "  <thead>\n",
       "    <tr style=\"text-align: right;\">\n",
       "      <th></th>\n",
       "      <th>PassengerId</th>\n",
       "      <th>Pclass</th>\n",
       "      <th>Name</th>\n",
       "      <th>Sex</th>\n",
       "      <th>Age</th>\n",
       "      <th>SibSp</th>\n",
       "      <th>Parch</th>\n",
       "      <th>Ticket</th>\n",
       "      <th>Fare</th>\n",
       "      <th>Cabin</th>\n",
       "      <th>Embarked</th>\n",
       "      <th>Title</th>\n",
       "      <th>FamilyMembers</th>\n",
       "    </tr>\n",
       "  </thead>\n",
       "  <tbody>\n",
       "    <tr>\n",
       "      <th>0</th>\n",
       "      <td>892</td>\n",
       "      <td>3</td>\n",
       "      <td>Kelly, Mr. James</td>\n",
       "      <td>male</td>\n",
       "      <td>34.5</td>\n",
       "      <td>0</td>\n",
       "      <td>0</td>\n",
       "      <td>330911</td>\n",
       "      <td>7.8292</td>\n",
       "      <td>NaN</td>\n",
       "      <td>Q</td>\n",
       "      <td>Mr</td>\n",
       "      <td>0</td>\n",
       "    </tr>\n",
       "    <tr>\n",
       "      <th>1</th>\n",
       "      <td>893</td>\n",
       "      <td>3</td>\n",
       "      <td>Wilkes, Mrs. James (Ellen Needs)</td>\n",
       "      <td>female</td>\n",
       "      <td>47.0</td>\n",
       "      <td>1</td>\n",
       "      <td>0</td>\n",
       "      <td>363272</td>\n",
       "      <td>7.0000</td>\n",
       "      <td>NaN</td>\n",
       "      <td>S</td>\n",
       "      <td>Mrs</td>\n",
       "      <td>1</td>\n",
       "    </tr>\n",
       "    <tr>\n",
       "      <th>2</th>\n",
       "      <td>894</td>\n",
       "      <td>2</td>\n",
       "      <td>Myles, Mr. Thomas Francis</td>\n",
       "      <td>male</td>\n",
       "      <td>62.0</td>\n",
       "      <td>0</td>\n",
       "      <td>0</td>\n",
       "      <td>240276</td>\n",
       "      <td>9.6875</td>\n",
       "      <td>NaN</td>\n",
       "      <td>Q</td>\n",
       "      <td>Mr</td>\n",
       "      <td>0</td>\n",
       "    </tr>\n",
       "    <tr>\n",
       "      <th>3</th>\n",
       "      <td>895</td>\n",
       "      <td>3</td>\n",
       "      <td>Wirz, Mr. Albert</td>\n",
       "      <td>male</td>\n",
       "      <td>27.0</td>\n",
       "      <td>0</td>\n",
       "      <td>0</td>\n",
       "      <td>315154</td>\n",
       "      <td>8.6625</td>\n",
       "      <td>NaN</td>\n",
       "      <td>S</td>\n",
       "      <td>Mr</td>\n",
       "      <td>0</td>\n",
       "    </tr>\n",
       "    <tr>\n",
       "      <th>4</th>\n",
       "      <td>896</td>\n",
       "      <td>3</td>\n",
       "      <td>Hirvonen, Mrs. Alexander (Helga E Lindqvist)</td>\n",
       "      <td>female</td>\n",
       "      <td>22.0</td>\n",
       "      <td>1</td>\n",
       "      <td>1</td>\n",
       "      <td>3101298</td>\n",
       "      <td>12.2875</td>\n",
       "      <td>NaN</td>\n",
       "      <td>S</td>\n",
       "      <td>Mrs</td>\n",
       "      <td>2</td>\n",
       "    </tr>\n",
       "  </tbody>\n",
       "</table>\n",
       "</div>"
      ],
      "text/plain": [
       "   PassengerId  Pclass                                          Name     Sex  \\\n",
       "0          892       3                              Kelly, Mr. James    male   \n",
       "1          893       3              Wilkes, Mrs. James (Ellen Needs)  female   \n",
       "2          894       2                     Myles, Mr. Thomas Francis    male   \n",
       "3          895       3                              Wirz, Mr. Albert    male   \n",
       "4          896       3  Hirvonen, Mrs. Alexander (Helga E Lindqvist)  female   \n",
       "\n",
       "    Age  SibSp  Parch   Ticket     Fare Cabin Embarked Title  FamilyMembers  \n",
       "0  34.5      0      0   330911   7.8292   NaN        Q    Mr              0  \n",
       "1  47.0      1      0   363272   7.0000   NaN        S   Mrs              1  \n",
       "2  62.0      0      0   240276   9.6875   NaN        Q    Mr              0  \n",
       "3  27.0      0      0   315154   8.6625   NaN        S    Mr              0  \n",
       "4  22.0      1      1  3101298  12.2875   NaN        S   Mrs              2  "
      ]
     },
     "execution_count": 357,
     "metadata": {},
     "output_type": "execute_result"
    }
   ],
   "source": [
    "#Add family size as its own variable?\n",
    "for dataset in combine_all:\n",
    "    dataset[\"FamilyMembers\"] = dataset[\"SibSp\"] + dataset[\"Parch\"]\n",
    "\n",
    "test.head()"
   ]
  },
  {
   "cell_type": "code",
   "execution_count": 358,
   "metadata": {},
   "outputs": [],
   "source": [
    "#Add dummy variables for embarked and sex\n",
    "test_d = pd.get_dummies(test_d, columns=[\"Embarked\"], drop_first =True)\n",
    "train_d = pd.get_dummies(train_d, columns=[\"Embarked\"], drop_first =True)\n",
    "\n",
    "test_d[\"Male\"] = test_d[\"Sex\"].map({\"female\": 0, \"male\": 1})\n",
    "train_d[\"Male\"] = train_d[\"Sex\"].map({\"female\": 0, \"male\": 1})"
   ]
  },
  {
   "cell_type": "code",
   "execution_count": 359,
   "metadata": {},
   "outputs": [
    {
     "data": {
      "text/html": [
       "<div>\n",
       "<style scoped>\n",
       "    .dataframe tbody tr th:only-of-type {\n",
       "        vertical-align: middle;\n",
       "    }\n",
       "\n",
       "    .dataframe tbody tr th {\n",
       "        vertical-align: top;\n",
       "    }\n",
       "\n",
       "    .dataframe thead th {\n",
       "        text-align: right;\n",
       "    }\n",
       "</style>\n",
       "<table border=\"1\" class=\"dataframe\">\n",
       "  <thead>\n",
       "    <tr style=\"text-align: right;\">\n",
       "      <th></th>\n",
       "      <th>PassengerId</th>\n",
       "      <th>Survived</th>\n",
       "      <th>Pclass</th>\n",
       "      <th>Name</th>\n",
       "      <th>Sex</th>\n",
       "      <th>Age</th>\n",
       "      <th>SibSp</th>\n",
       "      <th>Parch</th>\n",
       "      <th>Ticket</th>\n",
       "      <th>Fare</th>\n",
       "      <th>Cabin</th>\n",
       "      <th>Embarked</th>\n",
       "      <th>Title</th>\n",
       "      <th>FamilyMembers</th>\n",
       "    </tr>\n",
       "  </thead>\n",
       "  <tbody>\n",
       "    <tr>\n",
       "      <th>0</th>\n",
       "      <td>1</td>\n",
       "      <td>0</td>\n",
       "      <td>3</td>\n",
       "      <td>Braund, Mr. Owen Harris</td>\n",
       "      <td>male</td>\n",
       "      <td>22.0</td>\n",
       "      <td>1</td>\n",
       "      <td>0</td>\n",
       "      <td>A/5 21171</td>\n",
       "      <td>7.2500</td>\n",
       "      <td>NaN</td>\n",
       "      <td>S</td>\n",
       "      <td>Mr</td>\n",
       "      <td>1</td>\n",
       "    </tr>\n",
       "    <tr>\n",
       "      <th>1</th>\n",
       "      <td>2</td>\n",
       "      <td>1</td>\n",
       "      <td>1</td>\n",
       "      <td>Cumings, Mrs. John Bradley (Florence Briggs Th...</td>\n",
       "      <td>female</td>\n",
       "      <td>38.0</td>\n",
       "      <td>1</td>\n",
       "      <td>0</td>\n",
       "      <td>PC 17599</td>\n",
       "      <td>71.2833</td>\n",
       "      <td>C85</td>\n",
       "      <td>C</td>\n",
       "      <td>Mrs</td>\n",
       "      <td>1</td>\n",
       "    </tr>\n",
       "    <tr>\n",
       "      <th>2</th>\n",
       "      <td>3</td>\n",
       "      <td>1</td>\n",
       "      <td>3</td>\n",
       "      <td>Heikkinen, Miss. Laina</td>\n",
       "      <td>female</td>\n",
       "      <td>26.0</td>\n",
       "      <td>0</td>\n",
       "      <td>0</td>\n",
       "      <td>STON/O2. 3101282</td>\n",
       "      <td>7.9250</td>\n",
       "      <td>NaN</td>\n",
       "      <td>S</td>\n",
       "      <td>Miss</td>\n",
       "      <td>0</td>\n",
       "    </tr>\n",
       "    <tr>\n",
       "      <th>3</th>\n",
       "      <td>4</td>\n",
       "      <td>1</td>\n",
       "      <td>1</td>\n",
       "      <td>Futrelle, Mrs. Jacques Heath (Lily May Peel)</td>\n",
       "      <td>female</td>\n",
       "      <td>35.0</td>\n",
       "      <td>1</td>\n",
       "      <td>0</td>\n",
       "      <td>113803</td>\n",
       "      <td>53.1000</td>\n",
       "      <td>C123</td>\n",
       "      <td>S</td>\n",
       "      <td>Mrs</td>\n",
       "      <td>1</td>\n",
       "    </tr>\n",
       "    <tr>\n",
       "      <th>4</th>\n",
       "      <td>5</td>\n",
       "      <td>0</td>\n",
       "      <td>3</td>\n",
       "      <td>Allen, Mr. William Henry</td>\n",
       "      <td>male</td>\n",
       "      <td>35.0</td>\n",
       "      <td>0</td>\n",
       "      <td>0</td>\n",
       "      <td>373450</td>\n",
       "      <td>8.0500</td>\n",
       "      <td>NaN</td>\n",
       "      <td>S</td>\n",
       "      <td>Mr</td>\n",
       "      <td>0</td>\n",
       "    </tr>\n",
       "  </tbody>\n",
       "</table>\n",
       "</div>"
      ],
      "text/plain": [
       "   PassengerId  Survived  Pclass  \\\n",
       "0            1         0       3   \n",
       "1            2         1       1   \n",
       "2            3         1       3   \n",
       "3            4         1       1   \n",
       "4            5         0       3   \n",
       "\n",
       "                                                Name     Sex   Age  SibSp  \\\n",
       "0                            Braund, Mr. Owen Harris    male  22.0      1   \n",
       "1  Cumings, Mrs. John Bradley (Florence Briggs Th...  female  38.0      1   \n",
       "2                             Heikkinen, Miss. Laina  female  26.0      0   \n",
       "3       Futrelle, Mrs. Jacques Heath (Lily May Peel)  female  35.0      1   \n",
       "4                           Allen, Mr. William Henry    male  35.0      0   \n",
       "\n",
       "   Parch            Ticket     Fare Cabin Embarked Title  FamilyMembers  \n",
       "0      0         A/5 21171   7.2500   NaN        S    Mr              1  \n",
       "1      0          PC 17599  71.2833   C85        C   Mrs              1  \n",
       "2      0  STON/O2. 3101282   7.9250   NaN        S  Miss              0  \n",
       "3      0            113803  53.1000  C123        S   Mrs              1  \n",
       "4      0            373450   8.0500   NaN        S    Mr              0  "
      ]
     },
     "execution_count": 359,
     "metadata": {},
     "output_type": "execute_result"
    }
   ],
   "source": [
    "train.head()"
   ]
  },
  {
   "cell_type": "code",
   "execution_count": 360,
   "metadata": {},
   "outputs": [
    {
     "data": {
      "text/html": [
       "<div>\n",
       "<style scoped>\n",
       "    .dataframe tbody tr th:only-of-type {\n",
       "        vertical-align: middle;\n",
       "    }\n",
       "\n",
       "    .dataframe tbody tr th {\n",
       "        vertical-align: top;\n",
       "    }\n",
       "\n",
       "    .dataframe thead th {\n",
       "        text-align: right;\n",
       "    }\n",
       "</style>\n",
       "<table border=\"1\" class=\"dataframe\">\n",
       "  <thead>\n",
       "    <tr style=\"text-align: right;\">\n",
       "      <th></th>\n",
       "      <th>PassengerId</th>\n",
       "      <th>Survived</th>\n",
       "      <th>Pclass</th>\n",
       "      <th>Sex</th>\n",
       "      <th>Age</th>\n",
       "      <th>Fare</th>\n",
       "      <th>Embarked</th>\n",
       "      <th>Title</th>\n",
       "      <th>FamilyMembers</th>\n",
       "    </tr>\n",
       "  </thead>\n",
       "  <tbody>\n",
       "    <tr>\n",
       "      <th>0</th>\n",
       "      <td>1</td>\n",
       "      <td>0</td>\n",
       "      <td>3</td>\n",
       "      <td>male</td>\n",
       "      <td>22.0</td>\n",
       "      <td>7.2500</td>\n",
       "      <td>S</td>\n",
       "      <td>Mr</td>\n",
       "      <td>1</td>\n",
       "    </tr>\n",
       "    <tr>\n",
       "      <th>1</th>\n",
       "      <td>2</td>\n",
       "      <td>1</td>\n",
       "      <td>1</td>\n",
       "      <td>female</td>\n",
       "      <td>38.0</td>\n",
       "      <td>71.2833</td>\n",
       "      <td>C</td>\n",
       "      <td>Mrs</td>\n",
       "      <td>1</td>\n",
       "    </tr>\n",
       "    <tr>\n",
       "      <th>2</th>\n",
       "      <td>3</td>\n",
       "      <td>1</td>\n",
       "      <td>3</td>\n",
       "      <td>female</td>\n",
       "      <td>26.0</td>\n",
       "      <td>7.9250</td>\n",
       "      <td>S</td>\n",
       "      <td>Miss</td>\n",
       "      <td>0</td>\n",
       "    </tr>\n",
       "    <tr>\n",
       "      <th>3</th>\n",
       "      <td>4</td>\n",
       "      <td>1</td>\n",
       "      <td>1</td>\n",
       "      <td>female</td>\n",
       "      <td>35.0</td>\n",
       "      <td>53.1000</td>\n",
       "      <td>S</td>\n",
       "      <td>Mrs</td>\n",
       "      <td>1</td>\n",
       "    </tr>\n",
       "    <tr>\n",
       "      <th>4</th>\n",
       "      <td>5</td>\n",
       "      <td>0</td>\n",
       "      <td>3</td>\n",
       "      <td>male</td>\n",
       "      <td>35.0</td>\n",
       "      <td>8.0500</td>\n",
       "      <td>S</td>\n",
       "      <td>Mr</td>\n",
       "      <td>0</td>\n",
       "    </tr>\n",
       "  </tbody>\n",
       "</table>\n",
       "</div>"
      ],
      "text/plain": [
       "   PassengerId  Survived  Pclass     Sex   Age     Fare Embarked Title  \\\n",
       "0            1         0       3    male  22.0   7.2500        S    Mr   \n",
       "1            2         1       1  female  38.0  71.2833        C   Mrs   \n",
       "2            3         1       3  female  26.0   7.9250        S  Miss   \n",
       "3            4         1       1  female  35.0  53.1000        S   Mrs   \n",
       "4            5         0       3    male  35.0   8.0500        S    Mr   \n",
       "\n",
       "   FamilyMembers  \n",
       "0              1  \n",
       "1              1  \n",
       "2              0  \n",
       "3              1  \n",
       "4              0  "
      ]
     },
     "execution_count": 360,
     "metadata": {},
     "output_type": "execute_result"
    }
   ],
   "source": [
    "#drop_column_train = drop_column_test + []\n",
    "\n",
    "drop_column_dummy = [\"Name\", \"Ticket\", \"Sex\", \"Cabin\", \"SibSp\", \"Parch\"]\n",
    "train_d = train_d.drop(drop_column_dummy, axis = 1)\n",
    "test_d = test_d.drop(drop_column_dummy, axis = 1)\n",
    "\n",
    "drop_column = [\"Name\", \"Ticket\", \"Cabin\", \"SibSp\", \"Parch\"]\n",
    "train = train.drop(drop_column, axis = 1)\n",
    "test = test.drop(drop_column, axis = 1)\n",
    "\n",
    "train.head()"
   ]
  },
  {
   "cell_type": "markdown",
   "metadata": {},
   "source": [
    "## Outliers"
   ]
  },
  {
   "cell_type": "code",
   "execution_count": 361,
   "metadata": {},
   "outputs": [
    {
     "name": "stdout",
     "output_type": "stream",
     "text": [
      "(891, 9)\n",
      "(891, 13)\n",
      "[ 13  25  27  59  68  71  88  96 116 118 119 159 180 182 201 233 258 261\n",
      " 299 311 324 341 377 380 386 438 480 493 527 541 542 557 610 630 672 678\n",
      " 679 683 689 700 716 730 737 742 745 779 792 813 846 850 851 863]\n",
      "52\n"
     ]
    }
   ],
   "source": [
    "#Find outliers in training set\n",
    "print(train.shape)\n",
    "print(train_d.shape)\n",
    "\n",
    "z = np.abs(stats.zscore(train[[\"Age\", \"Fare\", \"FamilyMembers\"]])) #, \"SibSp\", \"Parch\"\n",
    "z1 = np.abs(stats.zscore(train[[\"Age\"]])) \n",
    "z2 = np.abs(stats.zscore(train[[\"Fare\"]]))\n",
    "z3 = np.abs(stats.zscore(train[[\"FamilyMembers\"]]))\n",
    "\n",
    "threshold = 3\n",
    "print(np.where(z>threshold)[0])\n",
    "print(len(np.where(z>threshold)[0]))\n",
    "\n",
    "#print(len(np.where(z1>threshold)[0]))\n",
    "#print(len(np.where(z2>threshold)[0]))\n",
    "#print(len(np.where(z3>threshold)[0]))\n",
    "\n",
    "idx = list(np.where(z>threshold)[0])"
   ]
  },
  {
   "cell_type": "code",
   "execution_count": 362,
   "metadata": {},
   "outputs": [
    {
     "name": "stdout",
     "output_type": "stream",
     "text": [
      "(839, 9)\n",
      "(839, 13)\n"
     ]
    }
   ],
   "source": [
    "#Remove outliers in training set\n",
    "train = train[~train.index.isin(idx)] # ~ means \"not in\"\n",
    "train_d = train_d[~train_d.index.isin(idx)] # ~ means \"not in\"\n",
    "\n",
    "print(train.shape)\n",
    "print(train_d.shape)"
   ]
  },
  {
   "cell_type": "markdown",
   "metadata": {},
   "source": [
    "#### Tansfer passengerID to index"
   ]
  },
  {
   "cell_type": "code",
   "execution_count": 363,
   "metadata": {},
   "outputs": [],
   "source": [
    "train.set_index(\"PassengerId\", inplace = True)\n",
    "test.set_index(\"PassengerId\", inplace = True)\n",
    "train_d.set_index(\"PassengerId\", inplace = True)\n",
    "test_d.set_index(\"PassengerId\", inplace = True)"
   ]
  },
  {
   "cell_type": "markdown",
   "metadata": {},
   "source": [
    "# Data exploration"
   ]
  },
  {
   "cell_type": "code",
   "execution_count": 364,
   "metadata": {},
   "outputs": [
    {
     "name": "stdout",
     "output_type": "stream",
     "text": [
      "<class 'pandas.core.frame.DataFrame'>\n",
      "Int64Index: 839 entries, 1 to 891\n",
      "Data columns (total 8 columns):\n",
      "Survived         839 non-null int64\n",
      "Pclass           839 non-null int64\n",
      "Sex              839 non-null object\n",
      "Age              839 non-null float64\n",
      "Fare             839 non-null float64\n",
      "Embarked         837 non-null object\n",
      "Title            839 non-null object\n",
      "FamilyMembers    839 non-null int64\n",
      "dtypes: float64(2), int64(3), object(3)\n",
      "memory usage: 59.0+ KB\n"
     ]
    }
   ],
   "source": [
    "train.info()"
   ]
  },
  {
   "cell_type": "code",
   "execution_count": 365,
   "metadata": {
    "scrolled": true
   },
   "outputs": [
    {
     "data": {
      "image/png": "[encoded data removed]",
      "text/plain": [
       "<Figure size 1800x648 with 2 Axes>"
      ]
     },
     "metadata": {
      "needs_background": "light"
     },
     "output_type": "display_data"
    }
   ],
   "source": [
    "## Correlation\n",
    "nominal_columns = list(train.select_dtypes(exclude=[\"number\"]).columns)\n",
    "associations(train,\n",
    "             nominal_columns=nominal_columns,\n",
    "             figsize=(25,9),\n",
    "             theil_u=True)\n",
    "\n",
    "# Create the default pairplot\n",
    "#sns.pairplot(train)"
   ]
  },
  {
   "cell_type": "code",
   "execution_count": 366,
   "metadata": {},
   "outputs": [
    {
     "data": {
      "image/png": "[encoded data removed]",
      "text/plain": [
       "<Figure size 432x432 with 4 Axes>"
      ]
     },
     "metadata": {
      "needs_background": "light"
     },
     "output_type": "display_data"
    }
   ],
   "source": [
    "g = sns.FacetGrid(train_d, \n",
    " col=\"Survived\", \n",
    " row=\"Male\")\n",
    "g = g.map(plt.hist,\"Age\")"
   ]
  },
  {
   "cell_type": "markdown",
   "metadata": {},
   "source": [
    "#### Class\n",
    "Higher class gives higher chance of survival"
   ]
  },
  {
   "cell_type": "code",
   "execution_count": 367,
   "metadata": {},
   "outputs": [
    {
     "data": {
      "text/plain": [
       "Pclass\n",
       "1    0.630208\n",
       "2    0.475410\n",
       "3    0.247845\n",
       "Name: Survived, dtype: float64"
      ]
     },
     "execution_count": 367,
     "metadata": {},
     "output_type": "execute_result"
    },
    {
     "data": {
      "image/png": "[encoded data removed]",
      "text/plain": [
       "<Figure size 432x288 with 1 Axes>"
      ]
     },
     "metadata": {
      "needs_background": "light"
     },
     "output_type": "display_data"
    }
   ],
   "source": [
    "sns.countplot(data=train_d,x='Pclass',hue='Survived')\n",
    "\n",
    "class_survived = train_d.groupby('Pclass').mean().Survived\n",
    "class_survived"
   ]
  },
  {
   "cell_type": "markdown",
   "metadata": {},
   "source": [
    "#### Sex\n",
    "Females have higher chance of survival"
   ]
  },
  {
   "cell_type": "code",
   "execution_count": 368,
   "metadata": {},
   "outputs": [
    {
     "data": {
      "text/plain": [
       "Male\n",
       "0    0.754325\n",
       "1    0.190909\n",
       "Name: Survived, dtype: float64"
      ]
     },
     "execution_count": 368,
     "metadata": {},
     "output_type": "execute_result"
    },
    {
     "data": {
      "image/png": "[encoded data removed]",
      "text/plain": [
       "<Figure size 432x288 with 1 Axes>"
      ]
     },
     "metadata": {
      "needs_background": "light"
     },
     "output_type": "display_data"
    }
   ],
   "source": [
    "sns.countplot(data=train_d,x='Male',hue='Survived')\n",
    "sex_survived = train_d.groupby('Male').mean().Survived\n",
    "sex_survived"
   ]
  },
  {
   "cell_type": "markdown",
   "metadata": {},
   "source": [
    "#### Age"
   ]
  },
  {
   "cell_type": "code",
   "execution_count": 369,
   "metadata": {},
   "outputs": [
    {
     "data": {
      "text/plain": [
       "<seaborn.axisgrid.FacetGrid at 0x156884e6d08>"
      ]
     },
     "execution_count": 369,
     "metadata": {},
     "output_type": "execute_result"
    },
    {
     "data": {
      "image/png": "[encoded data removed]",
      "text/plain": [
       "<Figure size 360x360 with 1 Axes>"
      ]
     },
     "metadata": {
      "needs_background": "light"
     },
     "output_type": "display_data"
    }
   ],
   "source": [
    "sns.catplot(x = \"Survived\", y= \"Age\", kind= \"box\", data = train_d)"
   ]
  },
  {
   "cell_type": "markdown",
   "metadata": {},
   "source": [
    "#### Fare"
   ]
  },
  {
   "cell_type": "code",
   "execution_count": 370,
   "metadata": {},
   "outputs": [
    {
     "data": {
      "text/plain": [
       "<seaborn.axisgrid.FacetGrid at 0x15688470ec8>"
      ]
     },
     "execution_count": 370,
     "metadata": {},
     "output_type": "execute_result"
    },
    {
     "data": {
      "image/png": "[encoded data removed]",
      "text/plain": [
       "<Figure size 360x360 with 1 Axes>"
      ]
     },
     "metadata": {
      "needs_background": "light"
     },
     "output_type": "display_data"
    }
   ],
   "source": [
    "sns.catplot(x = \"Survived\", y= \"Fare\", kind= \"box\", data = train_d)"
   ]
  },
  {
   "cell_type": "markdown",
   "metadata": {},
   "source": [
    "# ML"
   ]
  },
  {
   "cell_type": "code",
   "execution_count": 372,
   "metadata": {},
   "outputs": [
    {
     "ename": "KeyError",
     "evalue": "\"['Survived'] not found in axis\"",
     "output_type": "error",
     "traceback": [
      "\u001b[1;31m---------------------------------------------------------------------------\u001b[0m",
      "\u001b[1;31mKeyError\u001b[0m                                  Traceback (most recent call last)",
      "\u001b[1;32m<ipython-input-372-f4caa598af6f>\u001b[0m in \u001b[0;36m<module>\u001b[1;34m\u001b[0m\n\u001b[1;32m----> 1\u001b[1;33m \u001b[0mtrain\u001b[0m\u001b[1;33m,\u001b[0m \u001b[0mlabel\u001b[0m \u001b[1;33m=\u001b[0m \u001b[0mtrain\u001b[0m\u001b[1;33m.\u001b[0m\u001b[0mdrop\u001b[0m\u001b[1;33m(\u001b[0m\u001b[1;34m'Survived'\u001b[0m\u001b[1;33m,\u001b[0m \u001b[0maxis\u001b[0m\u001b[1;33m=\u001b[0m\u001b[1;36m1\u001b[0m\u001b[1;33m)\u001b[0m\u001b[1;33m,\u001b[0m \u001b[0mtrain\u001b[0m\u001b[1;33m[\u001b[0m\u001b[1;34m'Survived'\u001b[0m\u001b[1;33m]\u001b[0m\u001b[1;33m\u001b[0m\u001b[1;33m\u001b[0m\u001b[0m\n\u001b[0m\u001b[0;32m      2\u001b[0m \u001b[0mtrain_d\u001b[0m\u001b[1;33m,\u001b[0m \u001b[0mlabel_d\u001b[0m \u001b[1;33m=\u001b[0m \u001b[0mtrain_d\u001b[0m\u001b[1;33m.\u001b[0m\u001b[0mdrop\u001b[0m\u001b[1;33m(\u001b[0m\u001b[1;34m'Survived'\u001b[0m\u001b[1;33m,\u001b[0m \u001b[0maxis\u001b[0m\u001b[1;33m=\u001b[0m\u001b[1;36m1\u001b[0m\u001b[1;33m)\u001b[0m\u001b[1;33m,\u001b[0m \u001b[0mtrain_d\u001b[0m\u001b[1;33m[\u001b[0m\u001b[1;34m'Survived'\u001b[0m\u001b[1;33m]\u001b[0m\u001b[1;33m\u001b[0m\u001b[1;33m\u001b[0m\u001b[0m\n\u001b[0;32m      3\u001b[0m \u001b[1;33m\u001b[0m\u001b[0m\n\u001b[0;32m      4\u001b[0m \u001b[0mX_train\u001b[0m\u001b[1;33m,\u001b[0m \u001b[0mX_test\u001b[0m\u001b[1;33m,\u001b[0m \u001b[0my_train\u001b[0m\u001b[1;33m,\u001b[0m \u001b[0my_test\u001b[0m \u001b[1;33m=\u001b[0m \u001b[0mtrain_test_split\u001b[0m\u001b[1;33m(\u001b[0m\u001b[0mtrain\u001b[0m\u001b[1;33m,\u001b[0m \u001b[0mlabel\u001b[0m\u001b[1;33m,\u001b[0m \u001b[0mtest_size\u001b[0m\u001b[1;33m=\u001b[0m\u001b[1;36m0.3\u001b[0m\u001b[1;33m,\u001b[0m \u001b[0mrandom_state\u001b[0m \u001b[1;33m=\u001b[0m\u001b[1;36m42\u001b[0m\u001b[1;33m)\u001b[0m\u001b[1;33m\u001b[0m\u001b[1;33m\u001b[0m\u001b[0m\n\u001b[0;32m      5\u001b[0m \u001b[0mX_train_d\u001b[0m\u001b[1;33m,\u001b[0m \u001b[0mX_test_d\u001b[0m\u001b[1;33m,\u001b[0m \u001b[0my_train_d\u001b[0m\u001b[1;33m,\u001b[0m \u001b[0my_test_d\u001b[0m \u001b[1;33m=\u001b[0m \u001b[0mtrain_test_split\u001b[0m\u001b[1;33m(\u001b[0m\u001b[0mtrain_d\u001b[0m\u001b[1;33m,\u001b[0m \u001b[0mlabel_d\u001b[0m\u001b[1;33m,\u001b[0m \u001b[0mtest_size\u001b[0m\u001b[1;33m=\u001b[0m\u001b[1;36m0.3\u001b[0m\u001b[1;33m,\u001b[0m \u001b[0mrandom_state\u001b[0m \u001b[1;33m=\u001b[0m\u001b[1;36m42\u001b[0m\u001b[1;33m)\u001b[0m\u001b[1;33m\u001b[0m\u001b[1;33m\u001b[0m\u001b[0m\n",
      "\u001b[1;32m~\\AppData\\Local\\Continuum\\anaconda3\\envs\\titanic\\lib\\site-packages\\pandas\\core\\frame.py\u001b[0m in \u001b[0;36mdrop\u001b[1;34m(self, labels, axis, index, columns, level, inplace, errors)\u001b[0m\n\u001b[0;32m   4115\u001b[0m             \u001b[0mlevel\u001b[0m\u001b[1;33m=\u001b[0m\u001b[0mlevel\u001b[0m\u001b[1;33m,\u001b[0m\u001b[1;33m\u001b[0m\u001b[1;33m\u001b[0m\u001b[0m\n\u001b[0;32m   4116\u001b[0m             \u001b[0minplace\u001b[0m\u001b[1;33m=\u001b[0m\u001b[0minplace\u001b[0m\u001b[1;33m,\u001b[0m\u001b[1;33m\u001b[0m\u001b[1;33m\u001b[0m\u001b[0m\n\u001b[1;32m-> 4117\u001b[1;33m             \u001b[0merrors\u001b[0m\u001b[1;33m=\u001b[0m\u001b[0merrors\u001b[0m\u001b[1;33m,\u001b[0m\u001b[1;33m\u001b[0m\u001b[1;33m\u001b[0m\u001b[0m\n\u001b[0m\u001b[0;32m   4118\u001b[0m         )\n\u001b[0;32m   4119\u001b[0m \u001b[1;33m\u001b[0m\u001b[0m\n",
      "\u001b[1;32m~\\AppData\\Local\\Continuum\\anaconda3\\envs\\titanic\\lib\\site-packages\\pandas\\core\\generic.py\u001b[0m in \u001b[0;36mdrop\u001b[1;34m(self, labels, axis, index, columns, level, inplace, errors)\u001b[0m\n\u001b[0;32m   3912\u001b[0m         \u001b[1;32mfor\u001b[0m \u001b[0maxis\u001b[0m\u001b[1;33m,\u001b[0m \u001b[0mlabels\u001b[0m \u001b[1;32min\u001b[0m \u001b[0maxes\u001b[0m\u001b[1;33m.\u001b[0m\u001b[0mitems\u001b[0m\u001b[1;33m(\u001b[0m\u001b[1;33m)\u001b[0m\u001b[1;33m:\u001b[0m\u001b[1;33m\u001b[0m\u001b[1;33m\u001b[0m\u001b[0m\n\u001b[0;32m   3913\u001b[0m             \u001b[1;32mif\u001b[0m \u001b[0mlabels\u001b[0m \u001b[1;32mis\u001b[0m \u001b[1;32mnot\u001b[0m \u001b[1;32mNone\u001b[0m\u001b[1;33m:\u001b[0m\u001b[1;33m\u001b[0m\u001b[1;33m\u001b[0m\u001b[0m\n\u001b[1;32m-> 3914\u001b[1;33m                 \u001b[0mobj\u001b[0m \u001b[1;33m=\u001b[0m \u001b[0mobj\u001b[0m\u001b[1;33m.\u001b[0m\u001b[0m_drop_axis\u001b[0m\u001b[1;33m(\u001b[0m\u001b[0mlabels\u001b[0m\u001b[1;33m,\u001b[0m \u001b[0maxis\u001b[0m\u001b[1;33m,\u001b[0m \u001b[0mlevel\u001b[0m\u001b[1;33m=\u001b[0m\u001b[0mlevel\u001b[0m\u001b[1;33m,\u001b[0m \u001b[0merrors\u001b[0m\u001b[1;33m=\u001b[0m\u001b[0merrors\u001b[0m\u001b[1;33m)\u001b[0m\u001b[1;33m\u001b[0m\u001b[1;33m\u001b[0m\u001b[0m\n\u001b[0m\u001b[0;32m   3915\u001b[0m \u001b[1;33m\u001b[0m\u001b[0m\n\u001b[0;32m   3916\u001b[0m         \u001b[1;32mif\u001b[0m \u001b[0minplace\u001b[0m\u001b[1;33m:\u001b[0m\u001b[1;33m\u001b[0m\u001b[1;33m\u001b[0m\u001b[0m\n",
      "\u001b[1;32m~\\AppData\\Local\\Continuum\\anaconda3\\envs\\titanic\\lib\\site-packages\\pandas\\core\\generic.py\u001b[0m in \u001b[0;36m_drop_axis\u001b[1;34m(self, labels, axis, level, errors)\u001b[0m\n\u001b[0;32m   3944\u001b[0m                 \u001b[0mnew_axis\u001b[0m \u001b[1;33m=\u001b[0m \u001b[0maxis\u001b[0m\u001b[1;33m.\u001b[0m\u001b[0mdrop\u001b[0m\u001b[1;33m(\u001b[0m\u001b[0mlabels\u001b[0m\u001b[1;33m,\u001b[0m \u001b[0mlevel\u001b[0m\u001b[1;33m=\u001b[0m\u001b[0mlevel\u001b[0m\u001b[1;33m,\u001b[0m \u001b[0merrors\u001b[0m\u001b[1;33m=\u001b[0m\u001b[0merrors\u001b[0m\u001b[1;33m)\u001b[0m\u001b[1;33m\u001b[0m\u001b[1;33m\u001b[0m\u001b[0m\n\u001b[0;32m   3945\u001b[0m             \u001b[1;32melse\u001b[0m\u001b[1;33m:\u001b[0m\u001b[1;33m\u001b[0m\u001b[1;33m\u001b[0m\u001b[0m\n\u001b[1;32m-> 3946\u001b[1;33m                 \u001b[0mnew_axis\u001b[0m \u001b[1;33m=\u001b[0m \u001b[0maxis\u001b[0m\u001b[1;33m.\u001b[0m\u001b[0mdrop\u001b[0m\u001b[1;33m(\u001b[0m\u001b[0mlabels\u001b[0m\u001b[1;33m,\u001b[0m \u001b[0merrors\u001b[0m\u001b[1;33m=\u001b[0m\u001b[0merrors\u001b[0m\u001b[1;33m)\u001b[0m\u001b[1;33m\u001b[0m\u001b[1;33m\u001b[0m\u001b[0m\n\u001b[0m\u001b[0;32m   3947\u001b[0m             \u001b[0mresult\u001b[0m \u001b[1;33m=\u001b[0m \u001b[0mself\u001b[0m\u001b[1;33m.\u001b[0m\u001b[0mreindex\u001b[0m\u001b[1;33m(\u001b[0m\u001b[1;33m**\u001b[0m\u001b[1;33m{\u001b[0m\u001b[0maxis_name\u001b[0m\u001b[1;33m:\u001b[0m \u001b[0mnew_axis\u001b[0m\u001b[1;33m}\u001b[0m\u001b[1;33m)\u001b[0m\u001b[1;33m\u001b[0m\u001b[1;33m\u001b[0m\u001b[0m\n\u001b[0;32m   3948\u001b[0m \u001b[1;33m\u001b[0m\u001b[0m\n",
      "\u001b[1;32m~\\AppData\\Local\\Continuum\\anaconda3\\envs\\titanic\\lib\\site-packages\\pandas\\core\\indexes\\base.py\u001b[0m in \u001b[0;36mdrop\u001b[1;34m(self, labels, errors)\u001b[0m\n\u001b[0;32m   5338\u001b[0m         \u001b[1;32mif\u001b[0m \u001b[0mmask\u001b[0m\u001b[1;33m.\u001b[0m\u001b[0many\u001b[0m\u001b[1;33m(\u001b[0m\u001b[1;33m)\u001b[0m\u001b[1;33m:\u001b[0m\u001b[1;33m\u001b[0m\u001b[1;33m\u001b[0m\u001b[0m\n\u001b[0;32m   5339\u001b[0m             \u001b[1;32mif\u001b[0m \u001b[0merrors\u001b[0m \u001b[1;33m!=\u001b[0m \u001b[1;34m\"ignore\"\u001b[0m\u001b[1;33m:\u001b[0m\u001b[1;33m\u001b[0m\u001b[1;33m\u001b[0m\u001b[0m\n\u001b[1;32m-> 5340\u001b[1;33m                 \u001b[1;32mraise\u001b[0m \u001b[0mKeyError\u001b[0m\u001b[1;33m(\u001b[0m\u001b[1;34m\"{} not found in axis\"\u001b[0m\u001b[1;33m.\u001b[0m\u001b[0mformat\u001b[0m\u001b[1;33m(\u001b[0m\u001b[0mlabels\u001b[0m\u001b[1;33m[\u001b[0m\u001b[0mmask\u001b[0m\u001b[1;33m]\u001b[0m\u001b[1;33m)\u001b[0m\u001b[1;33m)\u001b[0m\u001b[1;33m\u001b[0m\u001b[1;33m\u001b[0m\u001b[0m\n\u001b[0m\u001b[0;32m   5341\u001b[0m             \u001b[0mindexer\u001b[0m \u001b[1;33m=\u001b[0m \u001b[0mindexer\u001b[0m\u001b[1;33m[\u001b[0m\u001b[1;33m~\u001b[0m\u001b[0mmask\u001b[0m\u001b[1;33m]\u001b[0m\u001b[1;33m\u001b[0m\u001b[1;33m\u001b[0m\u001b[0m\n\u001b[0;32m   5342\u001b[0m         \u001b[1;32mreturn\u001b[0m \u001b[0mself\u001b[0m\u001b[1;33m.\u001b[0m\u001b[0mdelete\u001b[0m\u001b[1;33m(\u001b[0m\u001b[0mindexer\u001b[0m\u001b[1;33m)\u001b[0m\u001b[1;33m\u001b[0m\u001b[1;33m\u001b[0m\u001b[0m\n",
      "\u001b[1;31mKeyError\u001b[0m: \"['Survived'] not found in axis\""
     ]
    }
   ],
   "source": [
    "train, label = train.drop('Survived', axis=1), train['Survived']\n",
    "train_d, label_d = train_d.drop('Survived', axis=1), train_d['Survived']\n",
    "\n",
    "X_train, X_test, y_train, y_test = train_test_split(train, label, test_size=0.3, random_state =42)\n",
    "X_train_d, X_test_d, y_train_d, y_test_d = train_test_split(train_d, label_d, test_size=0.3, random_state =42)\n",
    "\n",
    "print (\"X train dimension:\", X_train.shape)\n",
    "print (\"X test dimension:\", X_test.shape)"
   ]
  },
  {
   "cell_type": "code",
   "execution_count": 373,
   "metadata": {},
   "outputs": [
    {
     "name": "stdout",
     "output_type": "stream",
     "text": [
      "Accuracy of model is: 85.71%\n"
     ]
    }
   ],
   "source": [
    "param_dict = {\"objective\": \"binary:logistic\", \"n_jobs\": -1}\n",
    "\n",
    "model = XGBClassifier(**param_dict)\n",
    "model.fit(X_train_d, y_train_d,\n",
    "         eval_set=[(X_train_d, y_train_d), (X_test_d, y_test_d)],\n",
    "         eval_metric = \"error\",\n",
    "         verbose = False)\n",
    "\n",
    "predictions = model.predict(X_test_d)\n",
    "accuracy = round(accuracy_score(y_test_d, predictions)*100, 4)\n",
    "print (\"Accuracy of model is: %.2f%%\" % accuracy)\n"
   ]
  },
  {
   "cell_type": "code",
   "execution_count": 375,
   "metadata": {},
   "outputs": [
    {
     "data": {
      "image/png": "[encoded data removed]",
      "text/plain": [
       "<Figure size 1080x504 with 1 Axes>"
      ]
     },
     "metadata": {
      "needs_background": "light"
     },
     "output_type": "display_data"
    }
   ],
   "source": [
    "feature_importance = pd.DataFrame(list(zip(X_train_d.columns, model.feature_importances_)), columns=['features', 'importance'])\n",
    "feature_importance.set_index('features', drop=True, inplace=True)\n",
    "feature_importance.sort_values(by='importance', ascending=True, inplace=True)\n",
    "feature_importance.plot(kind='barh', legend=False, grid=True, figsize=[15,7]);"
   ]
  },
  {
   "cell_type": "code",
   "execution_count": 376,
   "metadata": {},
   "outputs": [
    {
     "data": {
      "text/html": [
       "<div>\n",
       "<style scoped>\n",
       "    .dataframe tbody tr th:only-of-type {\n",
       "        vertical-align: middle;\n",
       "    }\n",
       "\n",
       "    .dataframe tbody tr th {\n",
       "        vertical-align: top;\n",
       "    }\n",
       "\n",
       "    .dataframe thead th {\n",
       "        text-align: right;\n",
       "    }\n",
       "</style>\n",
       "<table border=\"1\" class=\"dataframe\">\n",
       "  <thead>\n",
       "    <tr style=\"text-align: right;\">\n",
       "      <th></th>\n",
       "      <th>Pclass</th>\n",
       "      <th>Sex</th>\n",
       "      <th>Age</th>\n",
       "      <th>Fare</th>\n",
       "      <th>Embarked</th>\n",
       "      <th>Title</th>\n",
       "      <th>FamilyMembers</th>\n",
       "    </tr>\n",
       "    <tr>\n",
       "      <th>PassengerId</th>\n",
       "      <th></th>\n",
       "      <th></th>\n",
       "      <th></th>\n",
       "      <th></th>\n",
       "      <th></th>\n",
       "      <th></th>\n",
       "      <th></th>\n",
       "    </tr>\n",
       "  </thead>\n",
       "  <tbody>\n",
       "    <tr>\n",
       "      <th>1</th>\n",
       "      <td>3</td>\n",
       "      <td>male</td>\n",
       "      <td>22.0</td>\n",
       "      <td>7.2500</td>\n",
       "      <td>S</td>\n",
       "      <td>Mr</td>\n",
       "      <td>1</td>\n",
       "    </tr>\n",
       "    <tr>\n",
       "      <th>2</th>\n",
       "      <td>1</td>\n",
       "      <td>female</td>\n",
       "      <td>38.0</td>\n",
       "      <td>71.2833</td>\n",
       "      <td>C</td>\n",
       "      <td>Mrs</td>\n",
       "      <td>1</td>\n",
       "    </tr>\n",
       "    <tr>\n",
       "      <th>3</th>\n",
       "      <td>3</td>\n",
       "      <td>female</td>\n",
       "      <td>26.0</td>\n",
       "      <td>7.9250</td>\n",
       "      <td>S</td>\n",
       "      <td>Miss</td>\n",
       "      <td>0</td>\n",
       "    </tr>\n",
       "    <tr>\n",
       "      <th>4</th>\n",
       "      <td>1</td>\n",
       "      <td>female</td>\n",
       "      <td>35.0</td>\n",
       "      <td>53.1000</td>\n",
       "      <td>S</td>\n",
       "      <td>Mrs</td>\n",
       "      <td>1</td>\n",
       "    </tr>\n",
       "    <tr>\n",
       "      <th>5</th>\n",
       "      <td>3</td>\n",
       "      <td>male</td>\n",
       "      <td>35.0</td>\n",
       "      <td>8.0500</td>\n",
       "      <td>S</td>\n",
       "      <td>Mr</td>\n",
       "      <td>0</td>\n",
       "    </tr>\n",
       "  </tbody>\n",
       "</table>\n",
       "</div>"
      ],
      "text/plain": [
       "             Pclass     Sex   Age     Fare Embarked Title  FamilyMembers\n",
       "PassengerId                                                             \n",
       "1                 3    male  22.0   7.2500        S    Mr              1\n",
       "2                 1  female  38.0  71.2833        C   Mrs              1\n",
       "3                 3  female  26.0   7.9250        S  Miss              0\n",
       "4                 1  female  35.0  53.1000        S   Mrs              1\n",
       "5                 3    male  35.0   8.0500        S    Mr              0"
      ]
     },
     "execution_count": 376,
     "metadata": {},
     "output_type": "execute_result"
    }
   ],
   "source": [
    "train.head()"
   ]
  },
  {
   "cell_type": "code",
   "execution_count": 378,
   "metadata": {},
   "outputs": [
    {
     "data": {
      "image/png": "[encoded data removed]",
      "text/plain": [
       "<Figure size 576x424.8 with 1 Axes>"
      ]
     },
     "metadata": {
      "needs_background": "light"
     },
     "output_type": "display_data"
    }
   ],
   "source": [
    "## Shap values\n",
    "explainer = shap.TreeExplainer(model)\n",
    "shap_values = explainer.shap_values(train_d)\n",
    "shap.summary_plot(shap_values, train_d, plot_type=\"bar\") \n",
    "#shap.summary_plot(shap_values, data)"
   ]
  },
  {
   "cell_type": "markdown",
   "metadata": {},
   "source": [
    "### Logistic Regression model"
   ]
  },
  {
   "cell_type": "code",
   "execution_count": 399,
   "metadata": {},
   "outputs": [
    {
     "name": "stdout",
     "output_type": "stream",
     "text": [
      "Accuracy of logistic regression model is: 85.71%\n"
     ]
    },
    {
     "name": "stderr",
     "output_type": "stream",
     "text": [
      "lbfgs failed to converge (status=1):\n",
      "STOP: TOTAL NO. of ITERATIONS REACHED LIMIT.\n",
      "\n",
      "Increase the number of iterations (max_iter) or scale the data as shown in:\n",
      "    https://scikit-learn.org/stable/modules/preprocessing.html.\n",
      "Please also refer to the documentation for alternative solver options:\n",
      "    https://scikit-learn.org/stable/modules/linear_model.html#logistic-regression\n"
     ]
    },
    {
     "data": {
      "text/plain": [
       "array([[0.74584791, 0.25415209],\n",
       "       [0.87392039, 0.12607961],\n",
       "       [0.18951289, 0.81048711],\n",
       "       [0.91242822, 0.08757178],\n",
       "       [0.87742017, 0.12257983],\n",
       "       [0.86138226, 0.13861774],\n",
       "       [0.93144612, 0.06855388],\n",
       "       [0.22261847, 0.77738153],\n",
       "       [0.83629399, 0.16370601],\n",
       "       [0.88997475, 0.11002525],\n",
       "       [0.93192878, 0.06807122],\n",
       "       [0.03197874, 0.96802126],\n",
       "       [0.88199381, 0.11800619],\n",
       "       [0.81764605, 0.18235395],\n",
       "       [0.8775399 , 0.1224601 ],\n",
       "       [0.50700487, 0.49299513],\n",
       "       [0.400325  , 0.599675  ],\n",
       "       [0.03844111, 0.96155889],\n",
       "       [0.28957559, 0.71042441],\n",
       "       [0.93547352, 0.06452648],\n",
       "       [0.90762224, 0.09237776],\n",
       "       [0.68397325, 0.31602675],\n",
       "       [0.84846211, 0.15153789],\n",
       "       [0.90762224, 0.09237776],\n",
       "       [0.03911978, 0.96088022],\n",
       "       [0.0315085 , 0.9684915 ],\n",
       "       [0.26119078, 0.73880922],\n",
       "       [0.72686366, 0.27313634],\n",
       "       [0.69020727, 0.30979273],\n",
       "       [0.45461608, 0.54538392],\n",
       "       [0.8855224 , 0.1144776 ],\n",
       "       [0.73197338, 0.26802662],\n",
       "       [0.37290705, 0.62709295],\n",
       "       [0.90958933, 0.09041067],\n",
       "       [0.5898256 , 0.4101744 ],\n",
       "       [0.2432772 , 0.7567228 ],\n",
       "       [0.50586583, 0.49413417],\n",
       "       [0.29463685, 0.70536315],\n",
       "       [0.90260799, 0.09739201],\n",
       "       [0.26132247, 0.73867753],\n",
       "       [0.53763822, 0.46236178],\n",
       "       [0.97250318, 0.02749682],\n",
       "       [0.9203171 , 0.0796829 ],\n",
       "       [0.7294952 , 0.2705048 ],\n",
       "       [0.86142921, 0.13857079],\n",
       "       [0.77549854, 0.22450146],\n",
       "       [0.90249675, 0.09750325],\n",
       "       [0.0766331 , 0.9233669 ],\n",
       "       [0.87346474, 0.12653526],\n",
       "       [0.76942924, 0.23057076],\n",
       "       [0.79738854, 0.20261146],\n",
       "       [0.07493691, 0.92506309],\n",
       "       [0.23491655, 0.76508345],\n",
       "       [0.84617543, 0.15382457],\n",
       "       [0.02786467, 0.97213533],\n",
       "       [0.38798527, 0.61201473],\n",
       "       [0.90741867, 0.09258133],\n",
       "       [0.97152324, 0.02847676],\n",
       "       [0.90353853, 0.09646147],\n",
       "       [0.70436284, 0.29563716],\n",
       "       [0.29953477, 0.70046523],\n",
       "       [0.34575875, 0.65424125],\n",
       "       [0.78447195, 0.21552805],\n",
       "       [0.57449239, 0.42550761],\n",
       "       [0.30793627, 0.69206373],\n",
       "       [0.35060407, 0.64939593],\n",
       "       [0.08027141, 0.91972859],\n",
       "       [0.58979607, 0.41020393],\n",
       "       [0.92390922, 0.07609078],\n",
       "       [0.51325119, 0.48674881],\n",
       "       [0.88658768, 0.11341232],\n",
       "       [0.05320258, 0.94679742],\n",
       "       [0.05326407, 0.94673593],\n",
       "       [0.4763626 , 0.5236374 ],\n",
       "       [0.19516187, 0.80483813],\n",
       "       [0.95623023, 0.04376977],\n",
       "       [0.8788928 , 0.1211072 ],\n",
       "       [0.44077706, 0.55922294],\n",
       "       [0.60229849, 0.39770151],\n",
       "       [0.88658103, 0.11341897],\n",
       "       [0.42718686, 0.57281314],\n",
       "       [0.87392039, 0.12607961],\n",
       "       [0.01789796, 0.98210204],\n",
       "       [0.07615217, 0.92384783],\n",
       "       [0.54042263, 0.45957737],\n",
       "       [0.90762224, 0.09237776],\n",
       "       [0.92263436, 0.07736564],\n",
       "       [0.93984698, 0.06015302],\n",
       "       [0.14388538, 0.85611462],\n",
       "       [0.49395648, 0.50604352],\n",
       "       [0.24469515, 0.75530485],\n",
       "       [0.947185  , 0.052815  ],\n",
       "       [0.7840888 , 0.2159112 ],\n",
       "       [0.88431034, 0.11568966],\n",
       "       [0.97353657, 0.02646343],\n",
       "       [0.93429863, 0.06570137],\n",
       "       [0.76747331, 0.23252669],\n",
       "       [0.89142996, 0.10857004],\n",
       "       [0.25136054, 0.74863946],\n",
       "       [0.13569055, 0.86430945],\n",
       "       [0.51062524, 0.48937476],\n",
       "       [0.22024258, 0.77975742],\n",
       "       [0.49735326, 0.50264674],\n",
       "       [0.9379769 , 0.0620231 ],\n",
       "       [0.89888276, 0.10111724],\n",
       "       [0.8600466 , 0.1399534 ],\n",
       "       [0.88258954, 0.11741046],\n",
       "       [0.1308895 , 0.8691105 ],\n",
       "       [0.90063547, 0.09936453],\n",
       "       [0.90548469, 0.09451531],\n",
       "       [0.26281026, 0.73718974],\n",
       "       [0.90287093, 0.09712907],\n",
       "       [0.37565622, 0.62434378],\n",
       "       [0.34562533, 0.65437467],\n",
       "       [0.24345585, 0.75654415],\n",
       "       [0.83070273, 0.16929727],\n",
       "       [0.09645369, 0.90354631],\n",
       "       [0.86245469, 0.13754531],\n",
       "       [0.91153669, 0.08846331],\n",
       "       [0.06032071, 0.93967929],\n",
       "       [0.26459466, 0.73540534],\n",
       "       [0.8775399 , 0.1224601 ],\n",
       "       [0.47182772, 0.52817228],\n",
       "       [0.76272774, 0.23727226],\n",
       "       [0.90741867, 0.09258133],\n",
       "       [0.0276981 , 0.9723019 ],\n",
       "       [0.91368698, 0.08631302],\n",
       "       [0.91499882, 0.08500118],\n",
       "       [0.87616701, 0.12383299],\n",
       "       [0.09220501, 0.90779499],\n",
       "       [0.94258615, 0.05741385],\n",
       "       [0.87046109, 0.12953891],\n",
       "       [0.88554496, 0.11445504],\n",
       "       [0.34575875, 0.65424125],\n",
       "       [0.59180601, 0.40819399],\n",
       "       [0.92200546, 0.07799454],\n",
       "       [0.7530121 , 0.2469879 ],\n",
       "       [0.92713894, 0.07286106],\n",
       "       [0.90741867, 0.09258133],\n",
       "       [0.26825805, 0.73174195],\n",
       "       [0.15472034, 0.84527966],\n",
       "       [0.86138226, 0.13861774],\n",
       "       [0.96346763, 0.03653237],\n",
       "       [0.06298058, 0.93701942],\n",
       "       [0.88658768, 0.11341232],\n",
       "       [0.51252636, 0.48747364],\n",
       "       [0.86138226, 0.13861774],\n",
       "       [0.54694521, 0.45305479],\n",
       "       [0.53711295, 0.46288705],\n",
       "       [0.85243891, 0.14756109],\n",
       "       [0.65811019, 0.34188981],\n",
       "       [0.56001043, 0.43998957],\n",
       "       [0.58770139, 0.41229861],\n",
       "       [0.08001511, 0.91998489],\n",
       "       [0.40755793, 0.59244207],\n",
       "       [0.86140574, 0.13859426],\n",
       "       [0.14639283, 0.85360717],\n",
       "       [0.23412283, 0.76587717],\n",
       "       [0.25057254, 0.74942746],\n",
       "       [0.42538939, 0.57461061],\n",
       "       [0.9172632 , 0.0827368 ],\n",
       "       [0.06679169, 0.93320831],\n",
       "       [0.31976568, 0.68023432],\n",
       "       [0.57154894, 0.42845106],\n",
       "       [0.53983772, 0.46016228],\n",
       "       [0.90762224, 0.09237776],\n",
       "       [0.0462233 , 0.9537767 ],\n",
       "       [0.68710122, 0.31289878],\n",
       "       [0.34575875, 0.65424125],\n",
       "       [0.37021733, 0.62978267],\n",
       "       [0.87463455, 0.12536545],\n",
       "       [0.87237949, 0.12762051],\n",
       "       [0.80216269, 0.19783731],\n",
       "       [0.90741867, 0.09258133],\n",
       "       [0.61717787, 0.38282213],\n",
       "       [0.95866502, 0.04133498],\n",
       "       [0.26300095, 0.73699905],\n",
       "       [0.80153915, 0.19846085],\n",
       "       [0.0246325 , 0.9753675 ],\n",
       "       [0.99271276, 0.00728724],\n",
       "       [0.80772049, 0.19227951],\n",
       "       [0.33446735, 0.66553265],\n",
       "       [0.88194955, 0.11805045],\n",
       "       [0.73657692, 0.26342308],\n",
       "       [0.57421466, 0.42578534],\n",
       "       [0.81531461, 0.18468539],\n",
       "       [0.81480984, 0.18519016],\n",
       "       [0.36565394, 0.63434606],\n",
       "       [0.94252142, 0.05747858],\n",
       "       [0.90778143, 0.09221857],\n",
       "       [0.75646965, 0.24353035],\n",
       "       [0.13736902, 0.86263098],\n",
       "       [0.74580998, 0.25419002],\n",
       "       [0.90873168, 0.09126832],\n",
       "       [0.82396262, 0.17603738],\n",
       "       [0.88028633, 0.11971367],\n",
       "       [0.02779195, 0.97220805],\n",
       "       [0.80325268, 0.19674732],\n",
       "       [0.52420892, 0.47579108],\n",
       "       [0.91281083, 0.08718917],\n",
       "       [0.16490735, 0.83509265],\n",
       "       [0.45406227, 0.54593773],\n",
       "       [0.56436497, 0.43563503],\n",
       "       [0.91625927, 0.08374073],\n",
       "       [0.13602571, 0.86397429],\n",
       "       [0.74507588, 0.25492412],\n",
       "       [0.74561602, 0.25438398],\n",
       "       [0.8736529 , 0.1263471 ],\n",
       "       [0.58390613, 0.41609387],\n",
       "       [0.90762224, 0.09237776],\n",
       "       [0.03992299, 0.96007701],\n",
       "       [0.18784757, 0.81215243],\n",
       "       [0.86956418, 0.13043582],\n",
       "       [0.03511059, 0.96488941],\n",
       "       [0.40681517, 0.59318483],\n",
       "       [0.80667513, 0.19332487],\n",
       "       [0.28126747, 0.71873253],\n",
       "       [0.78001925, 0.21998075],\n",
       "       [0.89431397, 0.10568603],\n",
       "       [0.88534553, 0.11465447],\n",
       "       [0.29751973, 0.70248027],\n",
       "       [0.34575875, 0.65424125],\n",
       "       [0.92883388, 0.07116612],\n",
       "       [0.90762224, 0.09237776],\n",
       "       [0.85700353, 0.14299647],\n",
       "       [0.93006945, 0.06993055],\n",
       "       [0.55516354, 0.44483646],\n",
       "       [0.9517448 , 0.0482552 ],\n",
       "       [0.90011516, 0.09988484],\n",
       "       [0.89058059, 0.10941941],\n",
       "       [0.15170511, 0.84829489],\n",
       "       [0.74560543, 0.25439457],\n",
       "       [0.00990368, 0.99009632],\n",
       "       [0.05331163, 0.94668837],\n",
       "       [0.25267008, 0.74732992],\n",
       "       [0.83070273, 0.16929727],\n",
       "       [0.86202293, 0.13797707],\n",
       "       [0.34529918, 0.65470082],\n",
       "       [0.69327312, 0.30672688],\n",
       "       [0.83070273, 0.16929727],\n",
       "       [0.88550186, 0.11449814],\n",
       "       [0.03357975, 0.96642025],\n",
       "       [0.8441459 , 0.1558541 ],\n",
       "       [0.67889423, 0.32110577],\n",
       "       [0.91368698, 0.08631302],\n",
       "       [0.50505763, 0.49494237],\n",
       "       [0.47758297, 0.52241703],\n",
       "       [0.90741867, 0.09258133],\n",
       "       [0.4398356 , 0.5601644 ],\n",
       "       [0.37348342, 0.62651658],\n",
       "       [0.05639819, 0.94360181],\n",
       "       [0.87200477, 0.12799523]])"
      ]
     },
     "execution_count": 399,
     "metadata": {},
     "output_type": "execute_result"
    }
   ],
   "source": [
    "# Initializing the model\n",
    "log_reg = LogisticRegression()\n",
    "log_reg.fit(X_train_d, y_train_d)\n",
    "\n",
    "# Predicting on test data\n",
    "prediction_lr = log_reg.predict(X_test_d)\n",
    "prediction_lr\n",
    "\n",
    "accuracy_lr =accuracy_score(y_test_d, prediction_lr)*100\n",
    "print (\"Accuracy of logistic regression model is: %.2f%%\" % accuracy_lr)\n",
    "\n",
    "pred_prob_lr = log_reg.predict_proba(X_test_d)"
   ]
  },
  {
   "cell_type": "code",
   "execution_count": 400,
   "metadata": {},
   "outputs": [
    {
     "data": {
      "image/png": "[encoded data removed]",
      "text/plain": [
       "<Figure size 504x504 with 1 Axes>"
      ]
     },
     "metadata": {
      "needs_background": "light"
     },
     "output_type": "display_data"
    }
   ],
   "source": [
    "from sklearn.metrics import roc_auc_score\n",
    "from sklearn.metrics import roc_curve\n",
    "roc_auc = roc_auc_score(y_test, log_reg.predict(X_test_d))\n",
    "fpr, tpr, thresholds = roc_curve(y_test_d, log_reg.predict_proba(X_test_d)[:,1])\n",
    "plt.figure(figsize=(7,7))\n",
    "plt.plot(fpr, tpr, label='Logistic Regression (area = %0.2f)' % roc_auc)\n",
    "plt.plot([0, 1], [0, 1],'r--')\n",
    "plt.xlim([0.0, 1.0])\n",
    "plt.ylim([0.0, 1.0])\n",
    "plt.xlabel('False Positive Rate')\n",
    "plt.ylabel('True Positive Rate')\n",
    "plt.title('Receiver operating characteristic')\n",
    "plt.legend(loc=\"lower right\")\n",
    "plt.savefig('Log_ROC')\n",
    "plt.show()"
   ]
  },
  {
   "cell_type": "markdown",
   "metadata": {},
   "source": [
    "### Random Forest\n",
    "Hentet fra kurs del 3"
   ]
  },
  {
   "cell_type": "code",
   "execution_count": 404,
   "metadata": {},
   "outputs": [
    {
     "name": "stdout",
     "output_type": "stream",
     "text": [
      "RSS for random forest model is 29.90\n",
      "Random forest R^2: 0.5060\n"
     ]
    }
   ],
   "source": [
    "from sklearn.ensemble import RandomForestRegressor\n",
    "\n",
    "forest_reg = RandomForestRegressor(random_state = 422, max_depth = 6)\n",
    "forest_reg.fit(X_train_d, y_train_d)\n",
    "\n",
    "predictions_rf = forest_reg.predict(X_test_d)\n",
    "\n",
    "#accuracy_forest = accuracy_score(y_test_d, predictions_rf)*100\n",
    "#print (\"Accuracy of logistic regression model is: %.2f%%\" % accuracy_forest)\n",
    "\n",
    "def RSS(y, p):\n",
    "    return sum((y - p)**2)\n",
    "\n",
    "print(\"RSS for random forest model is {0:.2f}\".format(RSS(y_test_d, predictions_rf)))\n",
    "print('Random forest R^2: %.4f' % forest_reg.score(X_test_d, y_test_d)) "
   ]
  },
  {
   "cell_type": "markdown",
   "metadata": {},
   "source": [
    "### Gradient Boosting\n",
    "Hentet fra kurs del 3"
   ]
  },
  {
   "cell_type": "code",
   "execution_count": 405,
   "metadata": {},
   "outputs": [
    {
     "data": {
      "text/html": [
       "<div>\n",
       "<style scoped>\n",
       "    .dataframe tbody tr th:only-of-type {\n",
       "        vertical-align: middle;\n",
       "    }\n",
       "\n",
       "    .dataframe tbody tr th {\n",
       "        vertical-align: top;\n",
       "    }\n",
       "\n",
       "    .dataframe thead th {\n",
       "        text-align: right;\n",
       "    }\n",
       "</style>\n",
       "<table border=\"1\" class=\"dataframe\">\n",
       "  <thead>\n",
       "    <tr style=\"text-align: right;\">\n",
       "      <th></th>\n",
       "      <th>Pclass</th>\n",
       "      <th>Age</th>\n",
       "      <th>Fare</th>\n",
       "      <th>Mr</th>\n",
       "      <th>Miss</th>\n",
       "      <th>Mrs</th>\n",
       "      <th>Master</th>\n",
       "      <th>FamilyMembers</th>\n",
       "      <th>Embarked_Q</th>\n",
       "      <th>Embarked_S</th>\n",
       "      <th>Male</th>\n",
       "    </tr>\n",
       "    <tr>\n",
       "      <th>PassengerId</th>\n",
       "      <th></th>\n",
       "      <th></th>\n",
       "      <th></th>\n",
       "      <th></th>\n",
       "      <th></th>\n",
       "      <th></th>\n",
       "      <th></th>\n",
       "      <th></th>\n",
       "      <th></th>\n",
       "      <th></th>\n",
       "      <th></th>\n",
       "    </tr>\n",
       "  </thead>\n",
       "  <tbody>\n",
       "    <tr>\n",
       "      <th>1</th>\n",
       "      <td>3</td>\n",
       "      <td>22.0</td>\n",
       "      <td>7.2500</td>\n",
       "      <td>1</td>\n",
       "      <td>0</td>\n",
       "      <td>0</td>\n",
       "      <td>0</td>\n",
       "      <td>1</td>\n",
       "      <td>0</td>\n",
       "      <td>1</td>\n",
       "      <td>1</td>\n",
       "    </tr>\n",
       "    <tr>\n",
       "      <th>2</th>\n",
       "      <td>1</td>\n",
       "      <td>38.0</td>\n",
       "      <td>71.2833</td>\n",
       "      <td>0</td>\n",
       "      <td>0</td>\n",
       "      <td>1</td>\n",
       "      <td>0</td>\n",
       "      <td>1</td>\n",
       "      <td>0</td>\n",
       "      <td>0</td>\n",
       "      <td>0</td>\n",
       "    </tr>\n",
       "    <tr>\n",
       "      <th>3</th>\n",
       "      <td>3</td>\n",
       "      <td>26.0</td>\n",
       "      <td>7.9250</td>\n",
       "      <td>0</td>\n",
       "      <td>1</td>\n",
       "      <td>0</td>\n",
       "      <td>0</td>\n",
       "      <td>0</td>\n",
       "      <td>0</td>\n",
       "      <td>1</td>\n",
       "      <td>0</td>\n",
       "    </tr>\n",
       "    <tr>\n",
       "      <th>4</th>\n",
       "      <td>1</td>\n",
       "      <td>35.0</td>\n",
       "      <td>53.1000</td>\n",
       "      <td>0</td>\n",
       "      <td>0</td>\n",
       "      <td>1</td>\n",
       "      <td>0</td>\n",
       "      <td>1</td>\n",
       "      <td>0</td>\n",
       "      <td>1</td>\n",
       "      <td>0</td>\n",
       "    </tr>\n",
       "    <tr>\n",
       "      <th>5</th>\n",
       "      <td>3</td>\n",
       "      <td>35.0</td>\n",
       "      <td>8.0500</td>\n",
       "      <td>1</td>\n",
       "      <td>0</td>\n",
       "      <td>0</td>\n",
       "      <td>0</td>\n",
       "      <td>0</td>\n",
       "      <td>0</td>\n",
       "      <td>1</td>\n",
       "      <td>1</td>\n",
       "    </tr>\n",
       "  </tbody>\n",
       "</table>\n",
       "</div>"
      ],
      "text/plain": [
       "             Pclass   Age     Fare  Mr  Miss  Mrs  Master  FamilyMembers  \\\n",
       "PassengerId                                                                \n",
       "1                 3  22.0   7.2500   1     0    0       0              1   \n",
       "2                 1  38.0  71.2833   0     0    1       0              1   \n",
       "3                 3  26.0   7.9250   0     1    0       0              0   \n",
       "4                 1  35.0  53.1000   0     0    1       0              1   \n",
       "5                 3  35.0   8.0500   1     0    0       0              0   \n",
       "\n",
       "             Embarked_Q  Embarked_S  Male  \n",
       "PassengerId                                \n",
       "1                     0           1     1  \n",
       "2                     0           0     0  \n",
       "3                     0           1     0  \n",
       "4                     0           1     0  \n",
       "5                     0           1     1  "
      ]
     },
     "execution_count": 405,
     "metadata": {},
     "output_type": "execute_result"
    }
   ],
   "source": [
    "train_d.head()"
   ]
  },
  {
   "cell_type": "code",
   "execution_count": null,
   "metadata": {},
   "outputs": [],
   "source": [
    "feature_labels = np.array(['Pclass', 'Age', 'Fare', 'Mr', 'Miss', 'Mrs', 'Master', 'FamilyMembers', 'Embarked_Q', 'Embarked_S', 'Male'])\n",
    "importance = forest_reg.feature_importances_\n",
    "feature_indexes_by_importance = importance.argsort()\n",
    "for index in feature_indexes_by_importance:\n",
    "    print('{}-{:.2f}%'.format(feature_labels[index], (importance[index] *100.0)))"
   ]
  },
  {
   "cell_type": "code",
   "execution_count": null,
   "metadata": {},
   "outputs": [],
   "source": [
    "# excluding the variables where impotance is less than 1%\n",
    "\n",
    "X = boston_data[['CRIM', 'RM', 'TAX', 'PTRATIO', 'LSTAT', 'AGE', 'B', 'INDUS']]\n",
    "y = boston_data[\"MEDV\"]\n",
    "\n",
    "X_train, X_test, y_train, y_test = train_test_split(X, y, test_size = 0.3, random_state = 222)"
   ]
  },
  {
   "cell_type": "code",
   "execution_count": null,
   "metadata": {},
   "outputs": [],
   "source": [
    "grad_boost = RandomForestRegressor(random_state = 222, max_depth = 6)\n",
    "\n",
    "grad_boost.fit(X_train, y_train)\n",
    "\n",
    "predictions_gb = grad_boost.predict(X_test)"
   ]
  },
  {
   "cell_type": "code",
   "execution_count": null,
   "metadata": {},
   "outputs": [],
   "source": [
    "print(\"RSS for gradient boosted tree model is {0:.2f}\".format(RSS(y_test, predictions_gb)))\n",
    "print('Gradient boosted tree R^2: %.4f' % grad_boost.score(X_test, y_test)) "
   ]
  },
  {
   "cell_type": "markdown",
   "metadata": {},
   "source": [
    "# Submit"
   ]
  },
  {
   "cell_type": "code",
   "execution_count": 13,
   "metadata": {},
   "outputs": [
    {
     "ename": "AttributeError",
     "evalue": "module 'pandas' has no attribute 'dataframe'",
     "output_type": "error",
     "traceback": [
      "\u001b[1;31m---------------------------------------------------------------------------\u001b[0m",
      "\u001b[1;31mAttributeError\u001b[0m                            Traceback (most recent call last)",
      "\u001b[1;32m<ipython-input-13-3c1fad0805d6>\u001b[0m in \u001b[0;36m<module>\u001b[1;34m\u001b[0m\n\u001b[0;32m      1\u001b[0m \u001b[0mresult\u001b[0m \u001b[1;33m=\u001b[0m \u001b[0mmodel\u001b[0m\u001b[1;33m.\u001b[0m\u001b[0mpredict\u001b[0m\u001b[1;33m(\u001b[0m\u001b[0mtest\u001b[0m\u001b[1;33m)\u001b[0m\u001b[1;33m\u001b[0m\u001b[1;33m\u001b[0m\u001b[0m\n\u001b[0;32m      2\u001b[0m \u001b[0mids\u001b[0m \u001b[1;33m=\u001b[0m \u001b[0mtest\u001b[0m\u001b[1;33m.\u001b[0m\u001b[0mindex\u001b[0m\u001b[1;33m\u001b[0m\u001b[1;33m\u001b[0m\u001b[0m\n\u001b[1;32m----> 3\u001b[1;33m \u001b[0msubmit\u001b[0m \u001b[1;33m=\u001b[0m \u001b[0mpd\u001b[0m\u001b[1;33m.\u001b[0m\u001b[0mdataframe\u001b[0m\u001b[1;33m(\u001b[0m\u001b[1;33m{\u001b[0m\u001b[1;34m\"PassengerId\"\u001b[0m\u001b[1;33m:\u001b[0m \u001b[0mids\u001b[0m\u001b[1;33m,\u001b[0m \u001b[1;34m\"Survived\"\u001b[0m\u001b[1;33m:\u001b[0m \u001b[0mresult\u001b[0m\u001b[1;33m.\u001b[0m\u001b[0mastype\u001b[0m\u001b[1;33m(\u001b[0m\u001b[0mint\u001b[0m\u001b[1;33m)\u001b[0m\u001b[1;33m}\u001b[0m\u001b[1;33m)\u001b[0m\u001b[1;33m\u001b[0m\u001b[1;33m\u001b[0m\u001b[0m\n\u001b[0m\u001b[0;32m      4\u001b[0m \u001b[0msubmit\u001b[0m\u001b[1;33m.\u001b[0m\u001b[0mto_csv\u001b[0m\u001b[1;33m(\u001b[0m\u001b[1;34m\"submit.csv\"\u001b[0m\u001b[1;33m)\u001b[0m\u001b[1;33m\u001b[0m\u001b[1;33m\u001b[0m\u001b[0m\n\u001b[0;32m      5\u001b[0m \u001b[0mprint\u001b[0m\u001b[1;33m(\u001b[0m\u001b[1;34m\"Done saving!\"\u001b[0m\u001b[1;33m)\u001b[0m\u001b[1;33m\u001b[0m\u001b[1;33m\u001b[0m\u001b[0m\n",
      "\u001b[1;32m~\\AppData\\Local\\Continuum\\anaconda3\\envs\\titanic\\lib\\site-packages\\pandas\\__init__.py\u001b[0m in \u001b[0;36m__getattr__\u001b[1;34m(name)\u001b[0m\n\u001b[0;32m    212\u001b[0m \u001b[1;33m\u001b[0m\u001b[0m\n\u001b[0;32m    213\u001b[0m             \u001b[1;32mreturn\u001b[0m \u001b[0mPanel\u001b[0m\u001b[1;33m\u001b[0m\u001b[1;33m\u001b[0m\u001b[0m\n\u001b[1;32m--> 214\u001b[1;33m         \u001b[1;32mraise\u001b[0m \u001b[0mAttributeError\u001b[0m\u001b[1;33m(\u001b[0m\u001b[1;34m\"module 'pandas' has no attribute '{}'\"\u001b[0m\u001b[1;33m.\u001b[0m\u001b[0mformat\u001b[0m\u001b[1;33m(\u001b[0m\u001b[0mname\u001b[0m\u001b[1;33m)\u001b[0m\u001b[1;33m)\u001b[0m\u001b[1;33m\u001b[0m\u001b[1;33m\u001b[0m\u001b[0m\n\u001b[0m\u001b[0;32m    215\u001b[0m \u001b[1;33m\u001b[0m\u001b[0m\n\u001b[0;32m    216\u001b[0m \u001b[1;33m\u001b[0m\u001b[0m\n",
      "\u001b[1;31mAttributeError\u001b[0m: module 'pandas' has no attribute 'dataframe'"
     ]
    }
   ],
   "source": [
    "result = model.predict(test)\n",
    "ids = test.index\n",
    "submit = pd.dataframe({\"PassengerId\": ids, \"Survived\": result.astype(int)})\n",
    "submit.to_csv(\"submit.csv\")\n",
    "print(\"Done saving!\")"
   ]
  },
  {
   "cell_type": "code",
   "execution_count": null,
   "metadata": {},
   "outputs": [],
   "source": []
  }
 ],
 "metadata": {
  "kernelspec": {
   "display_name": "Python 3",
   "language": "python",
   "name": "python3"
  },
  "language_info": {
   "codemirror_mode": {
    "name": "ipython",
    "version": 3
   },
   "file_extension": ".py",
   "mimetype": "text/x-python",
   "name": "python",
   "nbconvert_exporter": "python",
   "pygments_lexer": "ipython3",
   "version": "3.7.5"
  }
 },
 "nbformat": 4,
 "nbformat_minor": 2
}
